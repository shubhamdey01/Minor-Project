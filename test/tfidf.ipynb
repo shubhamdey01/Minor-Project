{
 "cells": [
  {
   "cell_type": "code",
   "execution_count": 24,
   "id": "6be9ed0b-8990-4152-8916-030a06628167",
   "metadata": {},
   "outputs": [],
   "source": [
    "import pandas as pd\n",
    "from nltk.tokenize import sent_tokenize\n",
    "from sklearn.feature_extraction.text import TfidfVectorizer\n",
    "from sklearn.metrics.pairwise import cosine_similarity\n",
    "from heapq import nlargest\n",
    "import evaluate"
   ]
  },
  {
   "cell_type": "code",
   "execution_count": 4,
   "id": "f6a3f933-adbc-4750-a721-9962ec519dcc",
   "metadata": {},
   "outputs": [],
   "source": [
    "def generate_summary(text, n=5):\n",
    "    sentences = sent_tokenize(text)\n",
    "    \n",
    "    tfidf = TfidfVectorizer(stop_words='english')\n",
    "    matrix = tfidf.fit_transform(sentences)\n",
    "    \n",
    "    scores = cosine_similarity(matrix[-1], matrix[:-1])[0]\n",
    "    summary_sentences = nlargest(n, range(len(scores)), key=scores.__getitem__)\n",
    "    \n",
    "    summary_tfidf = ' '.join([sentences[i] for i in sorted(summary_sentences)])\n",
    "    \n",
    "    return summary_tfidf"
   ]
  },
  {
   "cell_type": "code",
   "execution_count": 5,
   "id": "2378285e-c114-4cf2-9721-55ef8bbc12cf",
   "metadata": {},
   "outputs": [
    {
     "name": "stdout",
     "output_type": "stream",
     "text": [
      "Energy from the Sun affects the weather too. Changes in weather can affect our mood and life. We wear different clothes and do different things in different weather conditions. Weather stations around the world measure different parts of weather. People try to use these measurements to make weather forecasts for the future.\n"
     ]
    }
   ],
   "source": [
    "text = '''\n",
    "Weather is the day-to-day or hour-to-hour change in the atmosphere. \n",
    "Weather includes wind, lightning, storms, hurricanes, tornadoes (also known as twisters), rain, hail, snow, and lots more. \n",
    "Energy from the Sun affects the weather too. \n",
    "Climate tells us what kinds of weather usually happen in an area at different times of the year. \n",
    "Changes in weather can affect our mood and life. We wear different clothes and do different things in different weather conditions. \n",
    "We choose different foods in different seasons.\n",
    "Weather stations around the world measure different parts of weather. \n",
    "Ways to measure weather are wind speed, wind direction, temperature and humidity. \n",
    "People try to use these measurements to make weather forecasts for the future. \n",
    "These people are scientists that are called meteorologists. \n",
    "They use computers to build large mathematical models to follow weather trends.'''\n",
    "\n",
    "summary = generate_summary(text, 5)\n",
    "\n",
    "print(summary)"
   ]
  },
  {
   "cell_type": "code",
   "execution_count": null,
   "id": "1c1d8b4c-9806-47dc-857e-8df48b996a6d",
   "metadata": {},
   "outputs": [],
   "source": []
  },
  {
   "cell_type": "code",
   "execution_count": 6,
   "id": "df04fdb1-68a7-4988-a7aa-ee0e9e183c5a",
   "metadata": {},
   "outputs": [],
   "source": [
    "df = pd.read_csv('dataset/cnn_dailymail/test.csv')"
   ]
  },
  {
   "cell_type": "code",
   "execution_count": 7,
   "id": "068ec60d-d879-48de-994d-d8643ed8a5c6",
   "metadata": {},
   "outputs": [
    {
     "data": {
      "text/html": [
       "<div>\n",
       "<style scoped>\n",
       "    .dataframe tbody tr th:only-of-type {\n",
       "        vertical-align: middle;\n",
       "    }\n",
       "\n",
       "    .dataframe tbody tr th {\n",
       "        vertical-align: top;\n",
       "    }\n",
       "\n",
       "    .dataframe thead th {\n",
       "        text-align: right;\n",
       "    }\n",
       "</style>\n",
       "<table border=\"1\" class=\"dataframe\">\n",
       "  <thead>\n",
       "    <tr style=\"text-align: right;\">\n",
       "      <th></th>\n",
       "      <th>id</th>\n",
       "      <th>article</th>\n",
       "      <th>highlights</th>\n",
       "    </tr>\n",
       "  </thead>\n",
       "  <tbody>\n",
       "    <tr>\n",
       "      <th>0</th>\n",
       "      <td>92c514c913c0bdfe25341af9fd72b29db544099b</td>\n",
       "      <td>Ever noticed how plane seats appear to be gett...</td>\n",
       "      <td>Experts question if  packed out planes are put...</td>\n",
       "    </tr>\n",
       "    <tr>\n",
       "      <th>1</th>\n",
       "      <td>2003841c7dc0e7c5b1a248f9cd536d727f27a45a</td>\n",
       "      <td>A drunk teenage boy had to be rescued by secur...</td>\n",
       "      <td>Drunk teenage boy climbed into lion enclosure ...</td>\n",
       "    </tr>\n",
       "    <tr>\n",
       "      <th>2</th>\n",
       "      <td>91b7d2311527f5c2b63a65ca98d21d9c92485149</td>\n",
       "      <td>Dougie Freedman is on the verge of agreeing a ...</td>\n",
       "      <td>Nottingham Forest are close to extending Dougi...</td>\n",
       "    </tr>\n",
       "    <tr>\n",
       "      <th>3</th>\n",
       "      <td>caabf9cbdf96eb1410295a673e953d304391bfbb</td>\n",
       "      <td>Liverpool target Neto is also wanted by PSG an...</td>\n",
       "      <td>Fiorentina goalkeeper Neto has been linked wit...</td>\n",
       "    </tr>\n",
       "    <tr>\n",
       "      <th>4</th>\n",
       "      <td>3da746a7d9afcaa659088c8366ef6347fe6b53ea</td>\n",
       "      <td>Bruce Jenner will break his silence in a two-h...</td>\n",
       "      <td>Tell-all interview with the reality TV star, 6...</td>\n",
       "    </tr>\n",
       "  </tbody>\n",
       "</table>\n",
       "</div>"
      ],
      "text/plain": [
       "                                         id  \\\n",
       "0  92c514c913c0bdfe25341af9fd72b29db544099b   \n",
       "1  2003841c7dc0e7c5b1a248f9cd536d727f27a45a   \n",
       "2  91b7d2311527f5c2b63a65ca98d21d9c92485149   \n",
       "3  caabf9cbdf96eb1410295a673e953d304391bfbb   \n",
       "4  3da746a7d9afcaa659088c8366ef6347fe6b53ea   \n",
       "\n",
       "                                             article  \\\n",
       "0  Ever noticed how plane seats appear to be gett...   \n",
       "1  A drunk teenage boy had to be rescued by secur...   \n",
       "2  Dougie Freedman is on the verge of agreeing a ...   \n",
       "3  Liverpool target Neto is also wanted by PSG an...   \n",
       "4  Bruce Jenner will break his silence in a two-h...   \n",
       "\n",
       "                                          highlights  \n",
       "0  Experts question if  packed out planes are put...  \n",
       "1  Drunk teenage boy climbed into lion enclosure ...  \n",
       "2  Nottingham Forest are close to extending Dougi...  \n",
       "3  Fiorentina goalkeeper Neto has been linked wit...  \n",
       "4  Tell-all interview with the reality TV star, 6...  "
      ]
     },
     "execution_count": 7,
     "metadata": {},
     "output_type": "execute_result"
    }
   ],
   "source": [
    "df.head()"
   ]
  },
  {
   "cell_type": "code",
   "execution_count": 8,
   "id": "690c9a88-19c8-483e-ade5-01cf097a4f77",
   "metadata": {},
   "outputs": [],
   "source": [
    "df.drop('id', axis=1, inplace=True)"
   ]
  },
  {
   "cell_type": "code",
   "execution_count": 9,
   "id": "dfa19574-1b04-45e0-8e0d-5a0bca118483",
   "metadata": {},
   "outputs": [
    {
     "data": {
      "text/html": [
       "<div>\n",
       "<style scoped>\n",
       "    .dataframe tbody tr th:only-of-type {\n",
       "        vertical-align: middle;\n",
       "    }\n",
       "\n",
       "    .dataframe tbody tr th {\n",
       "        vertical-align: top;\n",
       "    }\n",
       "\n",
       "    .dataframe thead th {\n",
       "        text-align: right;\n",
       "    }\n",
       "</style>\n",
       "<table border=\"1\" class=\"dataframe\">\n",
       "  <thead>\n",
       "    <tr style=\"text-align: right;\">\n",
       "      <th></th>\n",
       "      <th>article</th>\n",
       "      <th>highlights</th>\n",
       "    </tr>\n",
       "  </thead>\n",
       "  <tbody>\n",
       "    <tr>\n",
       "      <th>0</th>\n",
       "      <td>Ever noticed how plane seats appear to be gett...</td>\n",
       "      <td>Experts question if  packed out planes are put...</td>\n",
       "    </tr>\n",
       "    <tr>\n",
       "      <th>1</th>\n",
       "      <td>A drunk teenage boy had to be rescued by secur...</td>\n",
       "      <td>Drunk teenage boy climbed into lion enclosure ...</td>\n",
       "    </tr>\n",
       "    <tr>\n",
       "      <th>2</th>\n",
       "      <td>Dougie Freedman is on the verge of agreeing a ...</td>\n",
       "      <td>Nottingham Forest are close to extending Dougi...</td>\n",
       "    </tr>\n",
       "    <tr>\n",
       "      <th>3</th>\n",
       "      <td>Liverpool target Neto is also wanted by PSG an...</td>\n",
       "      <td>Fiorentina goalkeeper Neto has been linked wit...</td>\n",
       "    </tr>\n",
       "    <tr>\n",
       "      <th>4</th>\n",
       "      <td>Bruce Jenner will break his silence in a two-h...</td>\n",
       "      <td>Tell-all interview with the reality TV star, 6...</td>\n",
       "    </tr>\n",
       "  </tbody>\n",
       "</table>\n",
       "</div>"
      ],
      "text/plain": [
       "                                             article  \\\n",
       "0  Ever noticed how plane seats appear to be gett...   \n",
       "1  A drunk teenage boy had to be rescued by secur...   \n",
       "2  Dougie Freedman is on the verge of agreeing a ...   \n",
       "3  Liverpool target Neto is also wanted by PSG an...   \n",
       "4  Bruce Jenner will break his silence in a two-h...   \n",
       "\n",
       "                                          highlights  \n",
       "0  Experts question if  packed out planes are put...  \n",
       "1  Drunk teenage boy climbed into lion enclosure ...  \n",
       "2  Nottingham Forest are close to extending Dougi...  \n",
       "3  Fiorentina goalkeeper Neto has been linked wit...  \n",
       "4  Tell-all interview with the reality TV star, 6...  "
      ]
     },
     "execution_count": 9,
     "metadata": {},
     "output_type": "execute_result"
    }
   ],
   "source": [
    "df.head()"
   ]
  },
  {
   "cell_type": "code",
   "execution_count": 10,
   "id": "a582b3f5-1237-4d29-a240-f7544b2f95a8",
   "metadata": {},
   "outputs": [
    {
     "data": {
      "text/plain": [
       "(11490, 2)"
      ]
     },
     "execution_count": 10,
     "metadata": {},
     "output_type": "execute_result"
    }
   ],
   "source": [
    "df.shape"
   ]
  },
  {
   "cell_type": "code",
   "execution_count": 11,
   "id": "697131eb-3144-4930-b53b-27bd0f7815ea",
   "metadata": {},
   "outputs": [
    {
     "data": {
      "text/plain": [
       "\"A bomb technician has used his expertise to create an Easter egg hunt for blind children - using beeping eggs. David Hyche, now a special agent at the Bureau of Alcohol, Tobacco and Firearms (ATF), developed the technology nine years ago when his four-month-old daughter turned blind. A transmitter is placed inside plastic eggs that let off a high-pitched beeping sound. Now Hyche has passed on the idea to the Alabama Institute for Deaf and Blind in Birmingham. Festive invention: Blind children in Birmingham, Alabama, have celebrated Easter early by hunting for plastic eggs that let of a beeping sound. They trade the eggs in for candy . The device: Bomb expert David Hyche put a transmitter in a plastic egg so his daughter could join the fun . 'With my daughter, one of her first phrases was, 'I do it myself.' She wants to do it by herself and most of these kids want to do that too,' he told WBRC. 'It's logical for people who are explosives investigators. It's just a battery, beeper and a switch... pretty simple.' Giggling and running around the play area at Brimingham's regional center, the blind children filled baskets with the beeping eggs, before trading them in for candy. 'We love to give the opportunity for our children with disabilities and their families to come out and have the same opportunity as everybody else does,' said Tamara Harrison with the Alabama Institute. Hyche (pictured) came up with the device when his daughter turned blind nine years ago . The father has shared his idea with the Alabama Institute for Deaf and Blind (pictured) this year .\""
      ]
     },
     "execution_count": 11,
     "metadata": {},
     "output_type": "execute_result"
    }
   ],
   "source": [
    "df['article'][26]"
   ]
  },
  {
   "cell_type": "code",
   "execution_count": 12,
   "id": "8a68af95-1229-497d-aeb2-d16d4e3be3bb",
   "metadata": {},
   "outputs": [
    {
     "data": {
      "text/plain": [
       "'Bomb expert David Hyche created the eggs when his daughter turned blind .\\nThe children follow sound of a beeper in a plastic egg, trade it for candy .\\nHe has now passed on the idea to Alabama Institute for Deaf and Blind .'"
      ]
     },
     "execution_count": 12,
     "metadata": {},
     "output_type": "execute_result"
    }
   ],
   "source": [
    "df['highlights'][26]"
   ]
  },
  {
   "cell_type": "code",
   "execution_count": 13,
   "id": "d8e876b4-1422-4b24-9c43-5218e60f7c55",
   "metadata": {},
   "outputs": [
    {
     "data": {
      "text/plain": [
       "\"A bomb technician has used his expertise to create an Easter egg hunt for blind children - using beeping eggs. Now Hyche has passed on the idea to the Alabama Institute for Deaf and Blind in Birmingham. Festive invention: Blind children in Birmingham, Alabama, have celebrated Easter early by hunting for plastic eggs that let of a beeping sound. 'We love to give the opportunity for our children with disabilities and their families to come out and have the same opportunity as everybody else does,' said Tamara Harrison with the Alabama Institute. Hyche (pictured) came up with the device when his daughter turned blind nine years ago .\""
      ]
     },
     "execution_count": 13,
     "metadata": {},
     "output_type": "execute_result"
    }
   ],
   "source": [
    "generate_summary(df['article'][26], 5)"
   ]
  },
  {
   "cell_type": "code",
   "execution_count": 14,
   "id": "cf4dab46-d4bc-4b99-ab49-0a44edffd7eb",
   "metadata": {},
   "outputs": [],
   "source": [
    "df['summary'] = df['article'].apply(generate_summary)"
   ]
  },
  {
   "cell_type": "code",
   "execution_count": 15,
   "id": "245c0ff6-5762-4c07-9d29-711278c407eb",
   "metadata": {},
   "outputs": [
    {
     "data": {
      "text/html": [
       "<div>\n",
       "<style scoped>\n",
       "    .dataframe tbody tr th:only-of-type {\n",
       "        vertical-align: middle;\n",
       "    }\n",
       "\n",
       "    .dataframe tbody tr th {\n",
       "        vertical-align: top;\n",
       "    }\n",
       "\n",
       "    .dataframe thead th {\n",
       "        text-align: right;\n",
       "    }\n",
       "</style>\n",
       "<table border=\"1\" class=\"dataframe\">\n",
       "  <thead>\n",
       "    <tr style=\"text-align: right;\">\n",
       "      <th></th>\n",
       "      <th>article</th>\n",
       "      <th>highlights</th>\n",
       "      <th>summary</th>\n",
       "    </tr>\n",
       "  </thead>\n",
       "  <tbody>\n",
       "    <tr>\n",
       "      <th>0</th>\n",
       "      <td>Ever noticed how plane seats appear to be gett...</td>\n",
       "      <td>Experts question if  packed out planes are put...</td>\n",
       "      <td>Tests conducted by the FAA use planes with a 3...</td>\n",
       "    </tr>\n",
       "    <tr>\n",
       "      <th>1</th>\n",
       "      <td>A drunk teenage boy had to be rescued by secur...</td>\n",
       "      <td>Drunk teenage boy climbed into lion enclosure ...</td>\n",
       "      <td>A drunk teenage boy had to be rescued by secur...</td>\n",
       "    </tr>\n",
       "    <tr>\n",
       "      <th>2</th>\n",
       "      <td>Dougie Freedman is on the verge of agreeing a ...</td>\n",
       "      <td>Nottingham Forest are close to extending Dougi...</td>\n",
       "      <td>Dougie Freedman is on the verge of agreeing a ...</td>\n",
       "    </tr>\n",
       "    <tr>\n",
       "      <th>3</th>\n",
       "      <td>Liverpool target Neto is also wanted by PSG an...</td>\n",
       "      <td>Fiorentina goalkeeper Neto has been linked wit...</td>\n",
       "      <td>Liverpool target Neto is also wanted by PSG an...</td>\n",
       "    </tr>\n",
       "    <tr>\n",
       "      <th>4</th>\n",
       "      <td>Bruce Jenner will break his silence in a two-h...</td>\n",
       "      <td>Tell-all interview with the reality TV star, 6...</td>\n",
       "      <td>And while the Kardashian women are known for e...</td>\n",
       "    </tr>\n",
       "  </tbody>\n",
       "</table>\n",
       "</div>"
      ],
      "text/plain": [
       "                                             article  \\\n",
       "0  Ever noticed how plane seats appear to be gett...   \n",
       "1  A drunk teenage boy had to be rescued by secur...   \n",
       "2  Dougie Freedman is on the verge of agreeing a ...   \n",
       "3  Liverpool target Neto is also wanted by PSG an...   \n",
       "4  Bruce Jenner will break his silence in a two-h...   \n",
       "\n",
       "                                          highlights  \\\n",
       "0  Experts question if  packed out planes are put...   \n",
       "1  Drunk teenage boy climbed into lion enclosure ...   \n",
       "2  Nottingham Forest are close to extending Dougi...   \n",
       "3  Fiorentina goalkeeper Neto has been linked wit...   \n",
       "4  Tell-all interview with the reality TV star, 6...   \n",
       "\n",
       "                                             summary  \n",
       "0  Tests conducted by the FAA use planes with a 3...  \n",
       "1  A drunk teenage boy had to be rescued by secur...  \n",
       "2  Dougie Freedman is on the verge of agreeing a ...  \n",
       "3  Liverpool target Neto is also wanted by PSG an...  \n",
       "4  And while the Kardashian women are known for e...  "
      ]
     },
     "execution_count": 15,
     "metadata": {},
     "output_type": "execute_result"
    }
   ],
   "source": [
    "df.head()"
   ]
  },
  {
   "cell_type": "code",
   "execution_count": 16,
   "id": "c3d134f5-709a-4512-ae32-4b50209664fe",
   "metadata": {},
   "outputs": [],
   "source": [
    "def compute_rouge_score(generated, reference):\n",
    "    rouge = evaluate.load(\"rouge\")\n",
    "    #We need to add '\\n' to each line before send it to ROUGE\n",
    "    generated_ = [\"\\n\".join(sent_tokenize(s.strip())) for s in generated]\n",
    "    reference_ = [\"\\n\".join(sent_tokenize(s.strip())) for s in reference]\n",
    "    \n",
    "    return rouge.compute(\n",
    "        predictions=generated_,\n",
    "        references=reference_,\n",
    "        use_stemmer=True,\n",
    "    )"
   ]
  },
  {
   "cell_type": "code",
   "execution_count": 20,
   "id": "5eb928a9-a345-45ca-8153-dbb9bdb1477a",
   "metadata": {},
   "outputs": [
    {
     "data": {
      "text/plain": [
       "{'rouge1': np.float64(0.312049844034635),\n",
       " 'rouge2': np.float64(0.11843451553002296),\n",
       " 'rougeL': np.float64(0.19533262045750047),\n",
       " 'rougeLsum': np.float64(0.2871502398185847)}"
      ]
     },
     "execution_count": 20,
     "metadata": {},
     "output_type": "execute_result"
    }
   ],
   "source": [
    "print(compute_rouge_score(df['highlights'], df['summary']))"
   ]
  },
  {
   "cell_type": "code",
   "execution_count": 28,
   "id": "4e651d93-28e5-499d-89b5-588054b7d53f",
   "metadata": {},
   "outputs": [
    {
     "data": {
      "text/plain": [
       "{'rouge1': np.float64(0.44897959183673464),\n",
       " 'rouge2': np.float64(0.20689655172413796),\n",
       " 'rougeL': np.float64(0.24489795918367346),\n",
       " 'rougeLsum': np.float64(0.40816326530612246)}"
      ]
     },
     "execution_count": 28,
     "metadata": {},
     "output_type": "execute_result"
    }
   ],
   "source": [
    "compute_rouge_score([df['highlights'][26]], [df['summary'][26]])"
   ]
  },
  {
   "cell_type": "code",
   "execution_count": 27,
   "id": "f243814a-c195-473c-a846-0177045f8fb7",
   "metadata": {},
   "outputs": [
    {
     "name": "stdout",
     "output_type": "stream",
     "text": [
      "['Bomb expert David Hyche created the eggs when his daughter turned blind .\\nThe children follow sound of a beeper in a plastic egg, trade it for candy .\\nHe has now passed on the idea to Alabama Institute for Deaf and Blind .'] [\"A bomb technician has used his expertise to create an Easter egg hunt for blind children - using beeping eggs. Now Hyche has passed on the idea to the Alabama Institute for Deaf and Blind in Birmingham. Festive invention: Blind children in Birmingham, Alabama, have celebrated Easter early by hunting for plastic eggs that let of a beeping sound. 'We love to give the opportunity for our children with disabilities and their families to come out and have the same opportunity as everybody else does,' said Tamara Harrison with the Alabama Institute. Hyche (pictured) came up with the device when his daughter turned blind nine years ago .\"]\n"
     ]
    }
   ],
   "source": [
    "print([df['highlights'][26]], [df['summary'][26]])"
   ]
  },
  {
   "cell_type": "code",
   "execution_count": null,
   "id": "a3a416b0-6e46-4c09-b4a9-914e10ff4ac0",
   "metadata": {},
   "outputs": [],
   "source": []
  }
 ],
 "metadata": {
  "kernelspec": {
   "display_name": "Python 3 (ipykernel)",
   "language": "python",
   "name": "python3"
  },
  "language_info": {
   "codemirror_mode": {
    "name": "ipython",
    "version": 3
   },
   "file_extension": ".py",
   "mimetype": "text/x-python",
   "name": "python",
   "nbconvert_exporter": "python",
   "pygments_lexer": "ipython3",
   "version": "3.12.3"
  }
 },
 "nbformat": 4,
 "nbformat_minor": 5
}
