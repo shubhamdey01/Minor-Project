{
 "cells": [
  {
   "cell_type": "markdown",
   "metadata": {},
   "source": [
    "Copyright (c) Microsoft Corporation. All rights reserved.\n",
    "\n",
    "Licensed under the MIT License."
   ]
  },
  {
   "cell_type": "markdown",
   "metadata": {},
   "source": [
    "## Extractive Summarization on CNN/DM Dataset using Transformer Version of BertSum\n",
    "\n",
    "\n",
    "### Summary\n",
    "\n",
    "This notebook demonstrates how to fine tune Transformers for extractive text summarization. Utility functions and classes in the NLP Best Practices repo are used to facilitate data preprocessing, model training, model scoring, result postprocessing, and model evaluation.\n",
    "\n",
    "BertSum refers to  [Fine-tune BERT for Extractive Summarization](https://arxiv.org/pdf/1903.10318.pdf) with [published example](https://github.com/nlpyang/BertSum/). And the Transformer version of Bertsum refers to our modification of BertSum and the source code can be accessed at (https://github.com/daden-ms/BertSum/). \n",
    "\n",
    "Extractive summarization are usually used in document summarization where each input document consists of mutiple sentences. The preprocessing of the input training data involves assigning label 0 or 1 to the document sentences based on the give summary. The summarization problem is also simplfied to classifying whether a document sentence should be included in the summary. \n",
    "\n",
    "The figure below illustrates how BERTSum can be fine tuned for extractive summarization task. [CLS] token is inserted at the beginning of each sentence, so is [SEP] token at the end. Interval segment embedding and positional embedding are added upon the token embedding as the input of the BERT model. The [CLS] token representation is used as sentence embedding and only the [CLS] tokens are used as the input for the summarization model. The summarization layer predicts the probability for each  sentence being included in the summary. Techniques like trigram blocking can be used to improve model accuarcy.   \n",
    "\n",
    "<img src=\"https://nlpbp.blob.core.windows.net/images/BertSum.PNG\">\n",
    "\n",
    "\n",
    "### Before You Start\n",
    "\n",
    "The running time shown in this notebook is on a Standard_NC24s_v3 Azure Ubuntu Virtual Machine with 4 NVIDIA Tesla V100 GPUs. \n",
    "> **Tip**: If you want to run through the notebook quickly, you can set the **`QUICK_RUN`** flag in the cell below to **`True`** to run the notebook on a small subset of the data and a smaller number of epochs. \n",
    "\n",
    "Using only 1 NVIDIA Tesla V100 GPUs, 16GB GPU memory configuration,\n",
    "- for data preprocessing, it takes around 1 minutes to preprocess the data for quick run. Otherwise it takes ~20 minutes to finish the data preprocessing. This time estimation assumes that the chosen transformer model is \"distilbert-base-uncased\" and the sentence selection method is \"greedy\", which is the default. The preprocessing time can be significantly longer if the sentence selection method is \"combination\", which can achieve better model performance.\n",
    "\n",
    "- for model fine tuning, it takes around 2 minutes for quick run. Otherwise, it takes around ~3 hours to finish. This estimation assumes the chosen encoder method is \"transformer\". The model fine tuning time can be shorter if other encoder method is chosen, which may result in worse model performance. \n",
    "\n",
    "### Additional Notes\n",
    "\n",
    "* **ROUGE Evalation**: To run rouge evaluation, please refer to the section of compute_rouge_perl in [summarization_evaluation.ipynb](./summarization_evaluation.ipynb) for setup.\n",
    "\n",
    "* **Distributed Training**:\n",
    "Please note that the jupyter notebook only allows to use pytorch [DataParallel](https://pytorch.org/docs/master/nn.html#dataparallel). Faster speed and larger batch size can be achieved with pytorch [DistributedDataParallel](https://pytorch.org/docs/master/notes/ddp.html)(DDP). Script [extractive_summarization_cnndm_distributed_train.py](./extractive_summarization_cnndm_distributed_train.py) shows an example of how to use DDP.\n",
    "\n"
   ]
  },
  {
   "cell_type": "code",
   "execution_count": null,
   "metadata": {},
   "outputs": [],
   "source": [
    "%load_ext autoreload\n",
    "\n",
    "%autoreload 2"
   ]
  },
  {
   "cell_type": "code",
   "execution_count": null,
   "metadata": {
    "tags": [
     "parameters"
    ]
   },
   "outputs": [],
   "source": [
    "## Set QUICK_RUN = True to run the notebook on a small subset of data and a smaller number of epochs.\n",
    "QUICK_RUN = True\n",
    "## Set USE_PREPROCSSED_DATA = True to skip the data preprocessing\n",
    "USE_PREPROCSSED_DATA = False"
   ]
  },
  {
   "cell_type": "markdown",
   "metadata": {},
   "source": [
    "### Configuration\n"
   ]
  },
  {
   "cell_type": "code",
   "execution_count": 3,
   "metadata": {},
   "outputs": [
    {
     "name": "stderr",
     "output_type": "stream",
     "text": [
      "/home/useradmin/miniconda3/envs/nlp_gpu/lib/python3.6/site-packages/dask/dataframe/utils.py:15: FutureWarning: pandas.util.testing is deprecated. Use the functions in the public API at pandas.testing instead.\n",
      "  import pandas.util.testing as tm\n"
     ]
    }
   ],
   "source": [
    "import os\n",
    "import shutil\n",
    "import sys\n",
    "import time\n",
    "from tempfile import TemporaryDirectory\n",
    "import torch\n",
    "\n",
    "nlp_path = os.path.abspath(\"../../\")\n",
    "if nlp_path not in sys.path:\n",
    "    sys.path.insert(0, nlp_path)\n",
    "\n",
    "from utils_nlp.dataset.cnndm import CNNDMBertSumProcessedData, CNNDMSummarizationDataset\n",
    "from utils_nlp.eval import compute_rouge_python, compute_rouge_perl\n",
    "from utils_nlp.models.transformers.extractive_summarization import (\n",
    "    ExtractiveSummarizer,\n",
    "    ExtSumProcessedData,\n",
    "    ExtSumProcessor,\n",
    ")\n",
    "\n",
    "from utils_nlp.models.transformers.datasets import SummarizationDataset\n",
    "import nltk\n",
    "from nltk import tokenize\n",
    "\n",
    "import pandas as pd\n",
    "import scrapbook as sb\n",
    "import pprint\n",
    "\n",
    "start_time = time.time()"
   ]
  },
  {
   "cell_type": "markdown",
   "metadata": {},
   "source": [
    "\n",
    "### Configuration: choose the transformer model to be used"
   ]
  },
  {
   "cell_type": "markdown",
   "metadata": {},
   "source": [
    "Several pretrained models have been made available by [Hugging Face](https://github.com/huggingface/transformers). For extractive summarization, the following pretrained models are supported. "
   ]
  },
  {
   "cell_type": "code",
   "execution_count": 4,
   "metadata": {},
   "outputs": [
    {
     "data": {
      "text/html": [
       "<div>\n",
       "<style scoped>\n",
       "    .dataframe tbody tr th:only-of-type {\n",
       "        vertical-align: middle;\n",
       "    }\n",
       "\n",
       "    .dataframe tbody tr th {\n",
       "        vertical-align: top;\n",
       "    }\n",
       "\n",
       "    .dataframe thead th {\n",
       "        text-align: right;\n",
       "    }\n",
       "</style>\n",
       "<table border=\"1\" class=\"dataframe\">\n",
       "  <thead>\n",
       "    <tr style=\"text-align: right;\">\n",
       "      <th></th>\n",
       "      <th>model_name</th>\n",
       "    </tr>\n",
       "  </thead>\n",
       "  <tbody>\n",
       "    <tr>\n",
       "      <th>0</th>\n",
       "      <td>bert-base-uncased</td>\n",
       "    </tr>\n",
       "    <tr>\n",
       "      <th>1</th>\n",
       "      <td>distilbert-base-uncased</td>\n",
       "    </tr>\n",
       "  </tbody>\n",
       "</table>\n",
       "</div>"
      ],
      "text/plain": [
       "                model_name\n",
       "0        bert-base-uncased\n",
       "1  distilbert-base-uncased"
      ]
     },
     "execution_count": 4,
     "metadata": {},
     "output_type": "execute_result"
    }
   ],
   "source": [
    "pd.DataFrame({\"model_name\": ExtractiveSummarizer.list_supported_models()})"
   ]
  },
  {
   "cell_type": "code",
   "execution_count": 5,
   "metadata": {
    "tags": [
     "parameters"
    ]
   },
   "outputs": [],
   "source": [
    "# Transformer model being used\n",
    "MODEL_NAME = \"distilbert-base-uncased\""
   ]
  },
  {
   "cell_type": "code",
   "execution_count": 6,
   "metadata": {},
   "outputs": [
    {
     "data": {
      "application/vnd.jupyter.widget-view+json": {
       "model_id": "9b2b418b2b5e44e78c569c13e9370e29",
       "version_major": 2,
       "version_minor": 0
      },
      "text/plain": [
       "HBox(children=(IntProgress(value=0, description='Downloading', max=442, style=ProgressStyle(description_width=…"
      ]
     },
     "metadata": {},
     "output_type": "display_data"
    },
    {
     "name": "stdout",
     "output_type": "stream",
     "text": [
      "\n"
     ]
    },
    {
     "data": {
      "application/vnd.jupyter.widget-view+json": {
       "model_id": "f638cdd5e3a94f36bb1a011fce3cd0ca",
       "version_major": 2,
       "version_minor": 0
      },
      "text/plain": [
       "HBox(children=(IntProgress(value=0, description='Downloading', max=231508, style=ProgressStyle(description_wid…"
      ]
     },
     "metadata": {},
     "output_type": "display_data"
    },
    {
     "name": "stdout",
     "output_type": "stream",
     "text": [
      "\n"
     ]
    }
   ],
   "source": [
    "# notebook parameters\n",
    "# the cache data path during find tuning\n",
    "CACHE_DIR = TemporaryDirectory().name\n",
    "processor = ExtSumProcessor(model_name=MODEL_NAME, cache_dir=CACHE_DIR)"
   ]
  },
  {
   "cell_type": "markdown",
   "metadata": {},
   "source": [
    "### Data Preprocessing\n",
    "\n",
    "The dataset we used for this notebook is CNN/DM dataset which contains the documents and accompanying questions from the news articles of CNN and Daily mail. The highlights in each article are used as summary. The dataset consits of ~289K training examples, ~11K valiation examples and ~11K test examples.  You can choose the [Option 1] below preprocess the data or [Option 2] to use the preprocessed version at [BERTSum published example](https://github.com/nlpyang/BertSum/). You don't need to manually download any of these two data sets as the code below will handle downloading. Functions defined specific in [cnndm.py](../../utils_nlp/dataset/cnndm.py) are unique to CNN/DM dataset that's preprocessed by harvardnlp. However, it provides a skeleton of how to preprocessing text into the format that model preprocessor takes: sentence tokenization and work tokenization. \n",
    "\n",
    "##### Details of Data Preprocessing\n",
    "\n",
    "The purpose of preprocessing is to process the input articles to the format that model finetuning needed. Assuming you have (1) all articles and (2) target summaries, each in a file and line-breaker separated, the steps to preprocess the data are:\n",
    "1. sentence tokenization\n",
    "2. word tokenization\n",
    "3. **label** the sentences in the article with 1 meaning the sentence is selected and 0 meaning the sentence is not selected. The algorithms for the sentence selection are \"greedy\" and \"combination\" and can be found in [sentence_selection.py](../../utils_nlp/dataset/sentence_selection.py)\n",
    "3. convert each example to  the desired format for extractive summarization\n",
    "    - filter the sentences in the example based on the min_src_ntokens argument. If the lefted total sentence number is less than min_nsents, the example is discarded.\n",
    "    - truncate the sentences in the example if the length is greater than max_src_ntokens\n",
    "    - truncate the sentences in the example and the labels if the total number of sentences is greater than max_nsents\n",
    "    - [CLS] and [SEP] are inserted before and after each sentence\n",
    "    - wordPiece tokenization or Byte Pair Encoding (BPE) subword tokenization\n",
    "    - truncate the example to 512 tokens\n",
    "    - convert the tokens into token indices corresponding to the transformer tokenizer's vocabulary.\n",
    "    - segment ids are generated and added\n",
    "    - [CLS] token positions are logged\n",
    "    - [CLS] token labels are truncated if it's greater than 512, which is the maximum input length that can be taken by the transformer model.\n",
    "    \n",
    "    \n",
    "Note that the original BERTSum paper use Stanford CoreNLP for data preprocessing, here we use NLTK for data preprocessing. "
   ]
  },
  {
   "cell_type": "markdown",
   "metadata": {},
   "source": [
    "##### [Option 1] Preprocess  data (Please skil this part if you choose to use preprocessed data)\n",
    "The code in following cell will download the CNN/DM dataset listed at https://github.com/harvardnlp/sent-summary/."
   ]
  },
  {
   "cell_type": "code",
   "execution_count": 7,
   "metadata": {
    "tags": [
     "parameters"
    ]
   },
   "outputs": [],
   "source": [
    "# the data path used to save the downloaded data file\n",
    "DATA_PATH = TemporaryDirectory().name\n",
    "# The number of lines at the head of data file used for preprocessing. -1 means all the lines.\n",
    "TOP_N = 1000\n",
    "if not QUICK_RUN:\n",
    "    TOP_N = -1"
   ]
  },
  {
   "cell_type": "code",
   "execution_count": 8,
   "metadata": {
    "scrolled": false
   },
   "outputs": [
    {
     "name": "stderr",
     "output_type": "stream",
     "text": [
      "100%|██████████| 489k/489k [00:07<00:00, 61.6kKB/s] \n"
     ]
    }
   ],
   "source": [
    "train_dataset, test_dataset = CNNDMSummarizationDataset(top_n=TOP_N, local_cache_path=DATA_PATH)"
   ]
  },
  {
   "cell_type": "markdown",
   "metadata": {},
   "source": [
    "Preprocess the data."
   ]
  },
  {
   "cell_type": "code",
   "execution_count": 9,
   "metadata": {
    "scrolled": false
   },
   "outputs": [],
   "source": [
    "\n",
    "ext_sum_train = processor.preprocess(train_dataset, oracle_mode=\"greedy\")\n",
    "ext_sum_test = processor.preprocess(test_dataset, oracle_mode=\"greedy\")\n"
   ]
  },
  {
   "cell_type": "code",
   "execution_count": 10,
   "metadata": {},
   "outputs": [
    {
     "data": {
      "text/plain": [
       "'\\n# save and load preprocessed data\\nsave_path = os.path.join(DATA_PATH, \"processed\")\\ntorch.save(ext_sum_train, os.path.join(save_path, \"train_full.pt\"))\\ntorch.save(ext_sum_test, os.path.join(save_path, \"test_full.pt\"))\\n\\n'"
      ]
     },
     "execution_count": 10,
     "metadata": {},
     "output_type": "execute_result"
    }
   ],
   "source": [
    "\"\"\"\n",
    "# save and load preprocessed data\n",
    "save_path = os.path.join(DATA_PATH, \"processed\")\n",
    "torch.save(ext_sum_train, os.path.join(save_path, \"train_full.pt\"))\n",
    "torch.save(ext_sum_test, os.path.join(save_path, \"test_full.pt\"))\n",
    "\n",
    "\"\"\"\n",
    "# ext_sum_train = torch.load(os.path.join(save_path, \"train_full.pt\"))\n",
    "# ext_sum_test = torch.load(os.path.join(save_path, \"test_full.pt\"))"
   ]
  },
  {
   "cell_type": "code",
   "execution_count": 11,
   "metadata": {},
   "outputs": [
    {
     "data": {
      "text/plain": [
       "995"
      ]
     },
     "execution_count": 11,
     "metadata": {},
     "output_type": "execute_result"
    }
   ],
   "source": [
    "len(ext_sum_train)"
   ]
  },
  {
   "cell_type": "code",
   "execution_count": 12,
   "metadata": {},
   "outputs": [
    {
     "data": {
      "text/plain": [
       "1000"
      ]
     },
     "execution_count": 12,
     "metadata": {},
     "output_type": "execute_result"
    }
   ],
   "source": [
    "len(ext_sum_test)"
   ]
  },
  {
   "cell_type": "markdown",
   "metadata": {},
   "source": [
    "#### Inspect Data"
   ]
  },
  {
   "cell_type": "code",
   "execution_count": 13,
   "metadata": {},
   "outputs": [
    {
     "data": {
      "text/plain": [
       "{'src': [['editor',\n",
       "   \"'s\",\n",
       "   'note',\n",
       "   ':',\n",
       "   'in',\n",
       "   'our',\n",
       "   'behind',\n",
       "   'the',\n",
       "   'scenes',\n",
       "   'series',\n",
       "   ',',\n",
       "   'cnn',\n",
       "   'correspondents',\n",
       "   'share',\n",
       "   'their',\n",
       "   'experiences',\n",
       "   'in',\n",
       "   'covering',\n",
       "   'news',\n",
       "   'and',\n",
       "   'analyze',\n",
       "   'the',\n",
       "   'stories',\n",
       "   'behind',\n",
       "   'the',\n",
       "   'events',\n",
       "   '.'],\n",
       "  ['here',\n",
       "   ',',\n",
       "   'soledad',\n",
       "   \"o'brien\",\n",
       "   'takes',\n",
       "   'users',\n",
       "   'inside',\n",
       "   'a',\n",
       "   'jail',\n",
       "   'where',\n",
       "   'many',\n",
       "   'of',\n",
       "   'the',\n",
       "   'inmates',\n",
       "   'are',\n",
       "   'mentally',\n",
       "   'ill',\n",
       "   '.'],\n",
       "  ['an',\n",
       "   'inmate',\n",
       "   'housed',\n",
       "   'on',\n",
       "   'the',\n",
       "   '``',\n",
       "   'forgotten',\n",
       "   'floor',\n",
       "   ',',\n",
       "   '``',\n",
       "   'where',\n",
       "   'many',\n",
       "   'mentally',\n",
       "   'ill',\n",
       "   'inmates',\n",
       "   'are',\n",
       "   'housed',\n",
       "   'in',\n",
       "   'miami',\n",
       "   'before',\n",
       "   'trial',\n",
       "   '.'],\n",
       "  ['miami',\n",
       "   ',',\n",
       "   'florida',\n",
       "   '(',\n",
       "   'cnn',\n",
       "   ')',\n",
       "   '--',\n",
       "   'the',\n",
       "   'ninth',\n",
       "   'floor',\n",
       "   'of',\n",
       "   'the',\n",
       "   'miami-dade',\n",
       "   'pretrial',\n",
       "   'detention',\n",
       "   'facility',\n",
       "   'is',\n",
       "   'dubbed',\n",
       "   'the',\n",
       "   '``',\n",
       "   'forgotten',\n",
       "   'floor',\n",
       "   '.',\n",
       "   '``'],\n",
       "  ['here',\n",
       "   ',',\n",
       "   'inmates',\n",
       "   'with',\n",
       "   'the',\n",
       "   'most',\n",
       "   'severe',\n",
       "   'mental',\n",
       "   'illnesses',\n",
       "   'are',\n",
       "   'incarcerated',\n",
       "   'until',\n",
       "   'they',\n",
       "   \"'re\",\n",
       "   'ready',\n",
       "   'to',\n",
       "   'appear',\n",
       "   'in',\n",
       "   'court',\n",
       "   '.'],\n",
       "  ['most',\n",
       "   'often',\n",
       "   ',',\n",
       "   'they',\n",
       "   'face',\n",
       "   'drug',\n",
       "   'charges',\n",
       "   'or',\n",
       "   'charges',\n",
       "   'of',\n",
       "   'assaulting',\n",
       "   'an',\n",
       "   'officer',\n",
       "   '--',\n",
       "   'charges',\n",
       "   'that',\n",
       "   'judge',\n",
       "   'steven',\n",
       "   'leifman',\n",
       "   'says',\n",
       "   'are',\n",
       "   'usually',\n",
       "   '``',\n",
       "   'avoidable',\n",
       "   'felonies',\n",
       "   '.',\n",
       "   '``'],\n",
       "  ['he',\n",
       "   'says',\n",
       "   'the',\n",
       "   'arrests',\n",
       "   'often',\n",
       "   'result',\n",
       "   'from',\n",
       "   'confrontations',\n",
       "   'with',\n",
       "   'police',\n",
       "   '.'],\n",
       "  ['mentally',\n",
       "   'ill',\n",
       "   'people',\n",
       "   'often',\n",
       "   'wo',\n",
       "   \"n't\",\n",
       "   'do',\n",
       "   'what',\n",
       "   'they',\n",
       "   \"'re\",\n",
       "   'told',\n",
       "   'when',\n",
       "   'police',\n",
       "   'arrive',\n",
       "   'on',\n",
       "   'the',\n",
       "   'scene',\n",
       "   '--',\n",
       "   'confrontation',\n",
       "   'seems',\n",
       "   'to',\n",
       "   'exacerbate',\n",
       "   'their',\n",
       "   'illness',\n",
       "   'and',\n",
       "   'they',\n",
       "   'become',\n",
       "   'more',\n",
       "   'paranoid',\n",
       "   ',',\n",
       "   'delusional',\n",
       "   ',',\n",
       "   'and',\n",
       "   'less',\n",
       "   'likely',\n",
       "   'to',\n",
       "   'follow',\n",
       "   'directions',\n",
       "   ',',\n",
       "   'according',\n",
       "   'to',\n",
       "   'leifman',\n",
       "   '.'],\n",
       "  ['so',\n",
       "   ',',\n",
       "   'they',\n",
       "   'end',\n",
       "   'up',\n",
       "   'on',\n",
       "   'the',\n",
       "   'ninth',\n",
       "   'floor',\n",
       "   'severely',\n",
       "   'mentally',\n",
       "   'disturbed',\n",
       "   ',',\n",
       "   'but',\n",
       "   'not',\n",
       "   'getting',\n",
       "   'any',\n",
       "   'real',\n",
       "   'help',\n",
       "   'because',\n",
       "   'they',\n",
       "   \"'re\",\n",
       "   'in',\n",
       "   'jail',\n",
       "   '.'],\n",
       "  ['we', 'toured', 'the', 'jail', 'with', 'leifman', '.'],\n",
       "  ['he',\n",
       "   'is',\n",
       "   'well',\n",
       "   'known',\n",
       "   'in',\n",
       "   'miami',\n",
       "   'as',\n",
       "   'an',\n",
       "   'advocate',\n",
       "   'for',\n",
       "   'justice',\n",
       "   'and',\n",
       "   'the',\n",
       "   'mentally',\n",
       "   'ill',\n",
       "   '.'],\n",
       "  ['even',\n",
       "   'though',\n",
       "   'we',\n",
       "   'were',\n",
       "   'not',\n",
       "   'exactly',\n",
       "   'welcomed',\n",
       "   'with',\n",
       "   'open',\n",
       "   'arms',\n",
       "   'by',\n",
       "   'the',\n",
       "   'guards',\n",
       "   ',',\n",
       "   'we',\n",
       "   'were',\n",
       "   'given',\n",
       "   'permission',\n",
       "   'to',\n",
       "   'shoot',\n",
       "   'videotape',\n",
       "   'and',\n",
       "   'tour',\n",
       "   'the',\n",
       "   'floor',\n",
       "   '.'],\n",
       "  ['go',\n",
       "   'inside',\n",
       "   'the',\n",
       "   '`',\n",
       "   'forgotten',\n",
       "   'floor',\n",
       "   \"'\",\n",
       "   '``',\n",
       "   'at',\n",
       "   'first',\n",
       "   ',',\n",
       "   'it',\n",
       "   \"'s\",\n",
       "   'hard',\n",
       "   'to',\n",
       "   'determine',\n",
       "   'where',\n",
       "   'the',\n",
       "   'people',\n",
       "   'are',\n",
       "   '.'],\n",
       "  ['the', 'prisoners', 'are', 'wearing', 'sleeveless', 'robes', '.'],\n",
       "  ['imagine',\n",
       "   'cutting',\n",
       "   'holes',\n",
       "   'for',\n",
       "   'arms',\n",
       "   'and',\n",
       "   'feet',\n",
       "   'in',\n",
       "   'a',\n",
       "   'heavy',\n",
       "   'wool',\n",
       "   'sleeping',\n",
       "   'bag',\n",
       "   '--',\n",
       "   'that',\n",
       "   \"'s\",\n",
       "   'kind',\n",
       "   'of',\n",
       "   'what',\n",
       "   'they',\n",
       "   'look',\n",
       "   'like',\n",
       "   '.'],\n",
       "  ['they',\n",
       "   \"'re\",\n",
       "   'designed',\n",
       "   'to',\n",
       "   'keep',\n",
       "   'the',\n",
       "   'mentally',\n",
       "   'ill',\n",
       "   'patients',\n",
       "   'from',\n",
       "   'injuring',\n",
       "   'themselves',\n",
       "   '.'],\n",
       "  ['that',\n",
       "   \"'s\",\n",
       "   'also',\n",
       "   'why',\n",
       "   'they',\n",
       "   'have',\n",
       "   'no',\n",
       "   'shoes',\n",
       "   ',',\n",
       "   'laces',\n",
       "   'or',\n",
       "   'mattresses',\n",
       "   '.'],\n",
       "  ['leifman',\n",
       "   'says',\n",
       "   'about',\n",
       "   'one-third',\n",
       "   'of',\n",
       "   'all',\n",
       "   'people',\n",
       "   'in',\n",
       "   'miami-dade',\n",
       "   'county',\n",
       "   'jails',\n",
       "   'are',\n",
       "   'mentally',\n",
       "   'ill',\n",
       "   '.'],\n",
       "  ['so',\n",
       "   ',',\n",
       "   'he',\n",
       "   'says',\n",
       "   ',',\n",
       "   'the',\n",
       "   'sheer',\n",
       "   'volume',\n",
       "   'is',\n",
       "   'overwhelming',\n",
       "   'the',\n",
       "   'system',\n",
       "   ',',\n",
       "   'and',\n",
       "   'the',\n",
       "   'result',\n",
       "   'is',\n",
       "   'what',\n",
       "   'we',\n",
       "   'see',\n",
       "   'on',\n",
       "   'the',\n",
       "   'ninth',\n",
       "   'floor',\n",
       "   '.'],\n",
       "  ['of',\n",
       "   'course',\n",
       "   ',',\n",
       "   'it',\n",
       "   'is',\n",
       "   'a',\n",
       "   'jail',\n",
       "   ',',\n",
       "   'so',\n",
       "   'it',\n",
       "   \"'s\",\n",
       "   'not',\n",
       "   'supposed',\n",
       "   'to',\n",
       "   'be',\n",
       "   'warm',\n",
       "   'and',\n",
       "   'comforting',\n",
       "   ',',\n",
       "   'but',\n",
       "   'the',\n",
       "   'lights',\n",
       "   'glare',\n",
       "   ',',\n",
       "   'the',\n",
       "   'cells',\n",
       "   'are',\n",
       "   'tiny',\n",
       "   'and',\n",
       "   'it',\n",
       "   \"'s\",\n",
       "   'loud',\n",
       "   '.'],\n",
       "  ['we',\n",
       "   'see',\n",
       "   'two',\n",
       "   ',',\n",
       "   'sometimes',\n",
       "   'three',\n",
       "   'men',\n",
       "   '--',\n",
       "   'sometimes',\n",
       "   'in',\n",
       "   'the',\n",
       "   'robes',\n",
       "   ',',\n",
       "   'sometimes',\n",
       "   'naked',\n",
       "   ',',\n",
       "   'lying',\n",
       "   'or',\n",
       "   'sitting',\n",
       "   'in',\n",
       "   'their',\n",
       "   'cells',\n",
       "   '.',\n",
       "   '``'],\n",
       "  ['i', 'am', 'the', 'son', 'of', 'the', 'president', '.'],\n",
       "  ['you', 'need', 'to', 'get', 'me', 'out', 'of', 'here', '!', '``'],\n",
       "  ['one', 'man', 'shouts', 'at', 'me', '.'],\n",
       "  ['he',\n",
       "   'is',\n",
       "   'absolutely',\n",
       "   'serious',\n",
       "   ',',\n",
       "   'convinced',\n",
       "   'that',\n",
       "   'help',\n",
       "   'is',\n",
       "   'on',\n",
       "   'the',\n",
       "   'way',\n",
       "   '--',\n",
       "   'if',\n",
       "   'only',\n",
       "   'he',\n",
       "   'could',\n",
       "   'reach',\n",
       "   'the',\n",
       "   'white',\n",
       "   'house',\n",
       "   '.'],\n",
       "  ['leifman',\n",
       "   'tells',\n",
       "   'me',\n",
       "   'that',\n",
       "   'these',\n",
       "   'prisoner-patients',\n",
       "   'will',\n",
       "   'often',\n",
       "   'circulate',\n",
       "   'through',\n",
       "   'the',\n",
       "   'system',\n",
       "   ',',\n",
       "   'occasionally',\n",
       "   'stabilizing',\n",
       "   'in',\n",
       "   'a',\n",
       "   'mental',\n",
       "   'hospital',\n",
       "   ',',\n",
       "   'only',\n",
       "   'to',\n",
       "   'return',\n",
       "   'to',\n",
       "   'jail',\n",
       "   'to',\n",
       "   'face',\n",
       "   'their',\n",
       "   'charges',\n",
       "   '.'],\n",
       "  ['it',\n",
       "   \"'s\",\n",
       "   'brutally',\n",
       "   'unjust',\n",
       "   ',',\n",
       "   'in',\n",
       "   'his',\n",
       "   'mind',\n",
       "   ',',\n",
       "   'and',\n",
       "   'he',\n",
       "   'has',\n",
       "   'become',\n",
       "   'a',\n",
       "   'strong',\n",
       "   'advocate',\n",
       "   'for',\n",
       "   'changing',\n",
       "   'things',\n",
       "   'in',\n",
       "   'miami',\n",
       "   '.'],\n",
       "  ['over',\n",
       "   'a',\n",
       "   'meal',\n",
       "   'later',\n",
       "   ',',\n",
       "   'we',\n",
       "   'talk',\n",
       "   'about',\n",
       "   'how',\n",
       "   'things',\n",
       "   'got',\n",
       "   'this',\n",
       "   'way',\n",
       "   'for',\n",
       "   'mental',\n",
       "   'patients',\n",
       "   '.'],\n",
       "  ['leifman',\n",
       "   'says',\n",
       "   '200',\n",
       "   'years',\n",
       "   'ago',\n",
       "   'people',\n",
       "   'were',\n",
       "   'considered',\n",
       "   '``',\n",
       "   'lunatics',\n",
       "   '``',\n",
       "   'and',\n",
       "   'they',\n",
       "   'were',\n",
       "   'locked',\n",
       "   'up',\n",
       "   'in',\n",
       "   'jails',\n",
       "   'even',\n",
       "   'if',\n",
       "   'they',\n",
       "   'had',\n",
       "   'no',\n",
       "   'charges',\n",
       "   'against',\n",
       "   'them',\n",
       "   '.'],\n",
       "  ['they',\n",
       "   'were',\n",
       "   'just',\n",
       "   'considered',\n",
       "   'unfit',\n",
       "   'to',\n",
       "   'be',\n",
       "   'in',\n",
       "   'society',\n",
       "   '.'],\n",
       "  ['over',\n",
       "   'the',\n",
       "   'years',\n",
       "   ',',\n",
       "   'he',\n",
       "   'says',\n",
       "   ',',\n",
       "   'there',\n",
       "   'was',\n",
       "   'some',\n",
       "   'public',\n",
       "   'outcry',\n",
       "   ',',\n",
       "   'and',\n",
       "   'the',\n",
       "   'mentally',\n",
       "   'ill',\n",
       "   'were',\n",
       "   'moved',\n",
       "   'out',\n",
       "   'of',\n",
       "   'jails',\n",
       "   'and',\n",
       "   'into',\n",
       "   'hospitals',\n",
       "   '.'],\n",
       "  ['but',\n",
       "   'leifman',\n",
       "   'says',\n",
       "   'many',\n",
       "   'of',\n",
       "   'these',\n",
       "   'mental',\n",
       "   'hospitals',\n",
       "   'were',\n",
       "   'so',\n",
       "   'horrible',\n",
       "   'they',\n",
       "   'were',\n",
       "   'shut',\n",
       "   'down',\n",
       "   '.'],\n",
       "  ['where', 'did', 'the', 'patients', 'go', '?'],\n",
       "  ['nowhere', '.'],\n",
       "  ['the', 'streets', '.'],\n",
       "  ['they',\n",
       "   'became',\n",
       "   ',',\n",
       "   'in',\n",
       "   'many',\n",
       "   'cases',\n",
       "   ',',\n",
       "   'the',\n",
       "   'homeless',\n",
       "   ',',\n",
       "   'he',\n",
       "   'says',\n",
       "   '.'],\n",
       "  ['they', 'never', 'got', 'treatment', '.'],\n",
       "  ['leifman',\n",
       "   'says',\n",
       "   'in',\n",
       "   '1955',\n",
       "   'there',\n",
       "   'were',\n",
       "   'more',\n",
       "   'than',\n",
       "   'half',\n",
       "   'a',\n",
       "   'million',\n",
       "   'people',\n",
       "   'in',\n",
       "   'state',\n",
       "   'mental',\n",
       "   'hospitals',\n",
       "   ',',\n",
       "   'and',\n",
       "   'today',\n",
       "   'that',\n",
       "   'number',\n",
       "   'has',\n",
       "   'been',\n",
       "   'reduced',\n",
       "   '90',\n",
       "   'percent',\n",
       "   ',',\n",
       "   'and',\n",
       "   '40,000',\n",
       "   'to',\n",
       "   '50,000',\n",
       "   'people',\n",
       "   'are',\n",
       "   'in',\n",
       "   'mental',\n",
       "   'hospitals',\n",
       "   '.'],\n",
       "  ['the', 'judge', 'says', 'he', \"'s\", 'working', 'to', 'change', 'this', '.'],\n",
       "  ['starting',\n",
       "   'in',\n",
       "   '2008',\n",
       "   ',',\n",
       "   'many',\n",
       "   'inmates',\n",
       "   'who',\n",
       "   'would',\n",
       "   'otherwise',\n",
       "   'have',\n",
       "   'been',\n",
       "   'brought',\n",
       "   'to',\n",
       "   'the',\n",
       "   '``',\n",
       "   'forgotten',\n",
       "   'floor',\n",
       "   '``',\n",
       "   'will',\n",
       "   'instead',\n",
       "   'be',\n",
       "   'sent',\n",
       "   'to',\n",
       "   'a',\n",
       "   'new',\n",
       "   'mental',\n",
       "   'health',\n",
       "   'facility',\n",
       "   '--',\n",
       "   'the',\n",
       "   'first',\n",
       "   'step',\n",
       "   'on',\n",
       "   'a',\n",
       "   'journey',\n",
       "   'toward',\n",
       "   'long-term',\n",
       "   'treatment',\n",
       "   ',',\n",
       "   'not',\n",
       "   'just',\n",
       "   'punishment',\n",
       "   '.'],\n",
       "  ['leifman',\n",
       "   'says',\n",
       "   'it',\n",
       "   \"'s\",\n",
       "   'not',\n",
       "   'the',\n",
       "   'complete',\n",
       "   'answer',\n",
       "   ',',\n",
       "   'but',\n",
       "   'it',\n",
       "   \"'s\",\n",
       "   'a',\n",
       "   'start',\n",
       "   '.'],\n",
       "  ['leifman',\n",
       "   'says',\n",
       "   'the',\n",
       "   'best',\n",
       "   'part',\n",
       "   'is',\n",
       "   'that',\n",
       "   'it',\n",
       "   \"'s\",\n",
       "   'a',\n",
       "   'win-win',\n",
       "   'solution',\n",
       "   '.'],\n",
       "  ['the',\n",
       "   'patients',\n",
       "   'win',\n",
       "   ',',\n",
       "   'the',\n",
       "   'families',\n",
       "   'are',\n",
       "   'relieved',\n",
       "   ',',\n",
       "   'and',\n",
       "   'the',\n",
       "   'state',\n",
       "   'saves',\n",
       "   'money',\n",
       "   'by',\n",
       "   'simply',\n",
       "   'not',\n",
       "   'cycling',\n",
       "   'these',\n",
       "   'prisoners',\n",
       "   'through',\n",
       "   'again',\n",
       "   'and',\n",
       "   'again',\n",
       "   '.'],\n",
       "  ['and', ',', 'for', 'leifman', ',', 'justice', 'is', 'served', '.'],\n",
       "  ['e-mail', 'to', 'a', 'friend', '.']],\n",
       " 'src_txt': [\"editor 's note : in our behind the scenes series , cnn correspondents share their experiences in covering news and analyze the stories behind the events .\",\n",
       "  \"here , soledad o'brien takes users inside a jail where many of the inmates are mentally ill .\",\n",
       "  'an inmate housed on the \" forgotten floor , \" where many mentally ill inmates are housed in miami before trial .',\n",
       "  'miami , florida ( cnn ) -- the ninth floor of the miami-dade pretrial detention facility is dubbed the \" forgotten floor . \"',\n",
       "  \"here , inmates with the most severe mental illnesses are incarcerated until they 're ready to appear in court .\",\n",
       "  'most often , they face drug charges or charges of assaulting an officer -- charges that judge steven leifman says are usually \" avoidable felonies . \"',\n",
       "  'he says the arrests often result from confrontations with police .',\n",
       "  \"mentally ill people often wo n't do what they 're told when police arrive on the scene -- confrontation seems to exacerbate their illness and they become more paranoid , delusional , and less likely to follow directions , according to leifman .\",\n",
       "  \"so , they end up on the ninth floor severely mentally disturbed , but not getting any real help because they 're in jail .\",\n",
       "  'we toured the jail with leifman .',\n",
       "  'he is well known in miami as an advocate for justice and the mentally ill .',\n",
       "  'even though we were not exactly welcomed with open arms by the guards , we were given permission to shoot videotape and tour the floor .',\n",
       "  'go inside the ` forgotten floor \\' \" at first , it \\'s hard to determine where the people are .',\n",
       "  'the prisoners are wearing sleeveless robes .',\n",
       "  \"imagine cutting holes for arms and feet in a heavy wool sleeping bag -- that 's kind of what they look like .\",\n",
       "  \"they 're designed to keep the mentally ill patients from injuring themselves .\",\n",
       "  \"that 's also why they have no shoes , laces or mattresses .\",\n",
       "  'leifman says about one-third of all people in miami-dade county jails are mentally ill .',\n",
       "  'so , he says , the sheer volume is overwhelming the system , and the result is what we see on the ninth floor .',\n",
       "  \"of course , it is a jail , so it 's not supposed to be warm and comforting , but the lights glare , the cells are tiny and it 's loud .\",\n",
       "  'we see two , sometimes three men -- sometimes in the robes , sometimes naked , lying or sitting in their cells . \"',\n",
       "  'i am the son of the president .',\n",
       "  'you need to get me out of here ! \"',\n",
       "  'one man shouts at me .',\n",
       "  'he is absolutely serious , convinced that help is on the way -- if only he could reach the white house .',\n",
       "  'leifman tells me that these prisoner-patients will often circulate through the system , occasionally stabilizing in a mental hospital , only to return to jail to face their charges .',\n",
       "  \"it 's brutally unjust , in his mind , and he has become a strong advocate for changing things in miami .\",\n",
       "  'over a meal later , we talk about how things got this way for mental patients .',\n",
       "  'leifman says 200 years ago people were considered \" lunatics \" and they were locked up in jails even if they had no charges against them .',\n",
       "  'they were just considered unfit to be in society .',\n",
       "  'over the years , he says , there was some public outcry , and the mentally ill were moved out of jails and into hospitals .',\n",
       "  'but leifman says many of these mental hospitals were so horrible they were shut down .',\n",
       "  'where did the patients go ?',\n",
       "  'nowhere .',\n",
       "  'the streets .',\n",
       "  'they became , in many cases , the homeless , he says .',\n",
       "  'they never got treatment .',\n",
       "  'leifman says in 1955 there were more than half a million people in state mental hospitals , and today that number has been reduced 90 percent , and 40,000 to 50,000 people are in mental hospitals .',\n",
       "  \"the judge says he 's working to change this .\",\n",
       "  'starting in 2008 , many inmates who would otherwise have been brought to the \" forgotten floor \" will instead be sent to a new mental health facility -- the first step on a journey toward long-term treatment , not just punishment .',\n",
       "  \"leifman says it 's not the complete answer , but it 's a start .\",\n",
       "  \"leifman says the best part is that it 's a win-win solution .\",\n",
       "  'the patients win , the families are relieved , and the state saves money by simply not cycling these prisoners through again and again .',\n",
       "  'and , for leifman , justice is served .',\n",
       "  'e-mail to a friend .'],\n",
       " 'tgt': [['mentally',\n",
       "   'ill',\n",
       "   'inmates',\n",
       "   'in',\n",
       "   'miami',\n",
       "   'are',\n",
       "   'housed',\n",
       "   'on',\n",
       "   'the',\n",
       "   '``',\n",
       "   'forgotten',\n",
       "   'floor',\n",
       "   '``'],\n",
       "  ['judge',\n",
       "   'steven',\n",
       "   'leifman',\n",
       "   'says',\n",
       "   'most',\n",
       "   'are',\n",
       "   'there',\n",
       "   'as',\n",
       "   'a',\n",
       "   'result',\n",
       "   'of',\n",
       "   '``',\n",
       "   'avoidable',\n",
       "   'felonies',\n",
       "   '``'],\n",
       "  ['while',\n",
       "   'cnn',\n",
       "   'tours',\n",
       "   'facility',\n",
       "   ',',\n",
       "   'patient',\n",
       "   'shouts',\n",
       "   ':',\n",
       "   '``',\n",
       "   'i',\n",
       "   'am',\n",
       "   'the',\n",
       "   'son',\n",
       "   'of',\n",
       "   'the',\n",
       "   'president',\n",
       "   '``'],\n",
       "  ['leifman',\n",
       "   'says',\n",
       "   'the',\n",
       "   'system',\n",
       "   'is',\n",
       "   'unjust',\n",
       "   'and',\n",
       "   'he',\n",
       "   \"'s\",\n",
       "   'fighting',\n",
       "   'for',\n",
       "   'change',\n",
       "   '.'],\n",
       "  []],\n",
       " 'tgt_txt': [' mentally ill inmates in miami are housed on the \" forgotten floor \" ',\n",
       "  '  judge steven leifman says most are there as a result of \" avoidable felonies \" ',\n",
       "  '  while cnn tours facility , patient shouts : \" i am the son of the president \" ',\n",
       "  \"  leifman says the system is unjust and he 's fighting for change . \",\n",
       "  '\\n'],\n",
       " 'oracle_ids': [2, 21, 38]}"
      ]
     },
     "execution_count": 13,
     "metadata": {},
     "output_type": "execute_result"
    }
   ],
   "source": [
    "ext_sum_train[0]"
   ]
  },
  {
   "cell_type": "code",
   "execution_count": 14,
   "metadata": {
    "scrolled": false
   },
   "outputs": [
    {
     "data": {
      "text/plain": [
       "dict_keys(['src', 'src_txt', 'tgt', 'tgt_txt', 'oracle_ids'])"
      ]
     },
     "execution_count": 14,
     "metadata": {},
     "output_type": "execute_result"
    }
   ],
   "source": [
    "ext_sum_train[0].keys()"
   ]
  },
  {
   "cell_type": "markdown",
   "metadata": {},
   "source": [
    "##### [Option 2] Reuse Preprocessed  data from [BERTSUM Repo](https://github.com/nlpyang/BertSum)"
   ]
  },
  {
   "cell_type": "code",
   "execution_count": 15,
   "metadata": {
    "tags": [
     "parameters",
     ":w"
    ]
   },
   "outputs": [],
   "source": [
    "# the data path used to downloaded the preprocessed data from BERTSUM Repo.\n",
    "# if you have downloaded the dataset, change the code to use that path where the dataset is.\n",
    "PROCESSED_DATA_PATH = TemporaryDirectory().name\n",
    "os.makedirs(PROCESSED_DATA_PATH, exist_ok=True)\n",
    "#data_path = \"./temp_data5/\"\n",
    "#PROCESSED_DATA_PATH = data_path"
   ]
  },
  {
   "cell_type": "code",
   "execution_count": 16,
   "metadata": {},
   "outputs": [],
   "source": [
    "if USE_PREPROCSSED_DATA:\n",
    "    download_path = CNNDMBertSumProcessedData.download(local_path=PROCESSED_DATA_PATH)\n",
    "    ext_sum_train, ext_sum_test = ExtSumProcessedData().splits(root=download_path, train_iterable=True)\n",
    "    "
   ]
  },
  {
   "cell_type": "markdown",
   "metadata": {},
   "source": [
    "### Model training\n",
    "To start model training, we need to create a instance of ExtractiveSummarizer.\n",
    "#### Choose the transformer model.\n",
    "Currently ExtractiveSummarizer support two models:\n",
    "- distilbert-base-uncase, \n",
    "- bert-base-uncase\n",
    "\n",
    "Potentionally, roberta-based model and xlnet can be supported but needs to be tested.\n",
    "#### Choose the encoder algorithm.\n",
    "There are four options:\n",
    "- baseline: it used a smaller transformer model to replace the bert model and with transformer summarization layer\n",
    "- classifier: it uses pretrained BERT and fine-tune BERT with **simple logistic classification** summarization layer\n",
    "- transformer: it uses pretrained BERT and fine-tune BERT with **transformer** summarization layer\n",
    "- RNN: it uses pretrained BERT and fine-tune BERT with **LSTM** summarization layer"
   ]
  },
  {
   "cell_type": "code",
   "execution_count": 17,
   "metadata": {
    "tags": [
     "parameters"
    ]
   },
   "outputs": [],
   "source": [
    "BATCH_SIZE = 5 # batch size, unit is the number of samples\n",
    "MAX_POS_LENGTH = 512\n",
    "if USE_PREPROCSSED_DATA: #if bertsum published data is used\n",
    "    BATCH_SIZE = 3000 # batch size, unit is the number of tokens\n",
    "    MAX_POS_LENGTH = 512\n",
    "    \n",
    "\n",
    "\n",
    "# GPU used for training\n",
    "NUM_GPUS = torch.cuda.device_count()\n",
    "\n",
    "# Encoder name. Options are: 1. baseline, classifier, transformer, rnn.\n",
    "ENCODER = \"transformer\"\n",
    "\n",
    "# Learning rate\n",
    "LEARNING_RATE=2e-3\n",
    "\n",
    "# How often the statistics reports show up in training, unit is step.\n",
    "REPORT_EVERY=100\n",
    "\n",
    "# total number of steps for training\n",
    "MAX_STEPS=1e2\n",
    "# number of steps for warm up\n",
    "WARMUP_STEPS=5e2\n",
    "    \n",
    "if not QUICK_RUN:\n",
    "    MAX_STEPS=5e4\n",
    "    WARMUP_STEPS=5e3\n",
    " "
   ]
  },
  {
   "cell_type": "code",
   "execution_count": 18,
   "metadata": {
    "scrolled": true
   },
   "outputs": [
    {
     "data": {
      "application/vnd.jupyter.widget-view+json": {
       "model_id": "23ead227649c4261bae7597e62ff4a69",
       "version_major": 2,
       "version_minor": 0
      },
      "text/plain": [
       "HBox(children=(IntProgress(value=0, description='Downloading', max=267967963, style=ProgressStyle(description_…"
      ]
     },
     "metadata": {},
     "output_type": "display_data"
    },
    {
     "name": "stdout",
     "output_type": "stream",
     "text": [
      "\n"
     ]
    }
   ],
   "source": [
    "summarizer = ExtractiveSummarizer(processor, MODEL_NAME, ENCODER, MAX_POS_LENGTH, CACHE_DIR)"
   ]
  },
  {
   "cell_type": "code",
   "execution_count": 19,
   "metadata": {
    "scrolled": true
   },
   "outputs": [
    {
     "name": "stderr",
     "output_type": "stream",
     "text": [
      "Iteration: 100%|██████████| 199/199 [01:50<00:00,  1.83it/s]\n",
      "Iteration:   1%|          | 2/199 [00:01<01:48,  1.81it/s]"
     ]
    },
    {
     "name": "stdout",
     "output_type": "stream",
     "text": [
      "timestamp: 23/07/2020 21:28:44, average loss: 46.223747, time duration: 111.959390,\n",
      "                            number of examples in current reporting: 1004, step 100\n",
      "                            out of total 100\n"
     ]
    },
    {
     "name": "stderr",
     "output_type": "stream",
     "text": [
      "Iteration:   2%|▏         | 3/199 [00:01<01:48,  1.81it/s]\n"
     ]
    }
   ],
   "source": [
    "#\"\"\"\n",
    "\n",
    "summarizer.fit(\n",
    "            ext_sum_train,\n",
    "            num_gpus=NUM_GPUS,\n",
    "            batch_size=BATCH_SIZE,\n",
    "            gradient_accumulation_steps=2,\n",
    "            max_steps=MAX_STEPS,\n",
    "            learning_rate=LEARNING_RATE,\n",
    "            warmup_steps=WARMUP_STEPS,\n",
    "            verbose=True,\n",
    "            report_every=REPORT_EVERY,\n",
    "            clip_grad_norm=False,\n",
    "            use_preprocessed_data=USE_PREPROCSSED_DATA\n",
    "        )\n",
    "\n",
    "#\"\"\"\n"
   ]
  },
  {
   "cell_type": "code",
   "execution_count": 20,
   "metadata": {},
   "outputs": [
    {
     "name": "stdout",
     "output_type": "stream",
     "text": [
      "saving through pytorch\n"
     ]
    }
   ],
   "source": [
    "summarizer.save_model(\n",
    "    os.path.join(\n",
    "        CACHE_DIR,\n",
    "        \"extsum_modelname_{0}_usepreprocess{1}_steps_{2}.pt\".format(\n",
    "            MODEL_NAME, USE_PREPROCSSED_DATA, MAX_STEPS\n",
    "        ),\n",
    "    )\n",
    ")"
   ]
  },
  {
   "cell_type": "markdown",
   "metadata": {},
   "source": [
    "### Loading a previous saved model checkpoint\n",
    "```\n",
    "import torch\n",
    "model_path = os.path.join(\n",
    "        CACHE_DIR,\n",
    "        \"extsum_modelname_{0}_usepreprocess{1}_steps_{2}.pt\".format(\n",
    "            MODEL_NAME, USE_PREPROCSSED_DATA, MAX_STEPS\n",
    "        ))\n",
    "summarizer = ExtractiveSummarizer(processor, MODEL_NAME, ENCODER, MAX_POS_LENGTH, CACHE_DIR)\n",
    "summarizer.model.load_state_dict(torch.load(model_path, map_location=\"cpu\"))\n",
    "```"
   ]
  },
  {
   "cell_type": "markdown",
   "metadata": {},
   "source": [
    "### Model Evaluation\n",
    "\n",
    "[ROUGE](https://en.wikipedia.org/wiki/ROUGE_(metric)), or Recall-Oriented Understudy for Gisting Evaluation has been commonly used for evaluating text summarization."
   ]
  },
  {
   "cell_type": "code",
   "execution_count": 21,
   "metadata": {},
   "outputs": [
    {
     "data": {
      "text/plain": [
       "dict_keys(['src', 'src_txt', 'tgt', 'tgt_txt', 'oracle_ids'])"
      ]
     },
     "execution_count": 21,
     "metadata": {},
     "output_type": "execute_result"
    }
   ],
   "source": [
    "ext_sum_test[0].keys()"
   ]
  },
  {
   "cell_type": "code",
   "execution_count": 22,
   "metadata": {},
   "outputs": [],
   "source": [
    "if \"segs\" in ext_sum_test[0]: # preprocessed_data\n",
    "    source = [i['src_txt'] for i in ext_sum_test]\n",
    "    target = [\"\\n\".join(i['tgt_txt'].split(\"<q>\")) for i in ext_sum_test]\n",
    "else:\n",
    "    source = []\n",
    "    temp_target = []\n",
    "    for i in ext_sum_test:\n",
    "        source.append(i[\"src_txt\"]) \n",
    "        temp_target.append(\" \".join(j) for j in i['tgt']) \n",
    "    target = [''.join(i) for i in list(temp_target)]"
   ]
  },
  {
   "cell_type": "code",
   "execution_count": 23,
   "metadata": {
    "scrolled": false
   },
   "outputs": [
    {
     "name": "stderr",
     "output_type": "stream",
     "text": [
      "Scoring: 100%|██████████| 4/4 [00:44<00:00, 11.10s/it]\n"
     ]
    },
    {
     "name": "stdout",
     "output_type": "stream",
     "text": [
      "CPU times: user 47.1 s, sys: 1.1 s, total: 48.2 s\n",
      "Wall time: 45.9 s\n"
     ]
    }
   ],
   "source": [
    "%%time\n",
    "sentence_separator = \"\\n\"\n",
    "prediction = summarizer.predict(ext_sum_test, num_gpus=NUM_GPUS, batch_size=256, sentence_separator=sentence_separator)"
   ]
  },
  {
   "cell_type": "code",
   "execution_count": 24,
   "metadata": {},
   "outputs": [
    {
     "data": {
      "text/plain": [
       "1000"
      ]
     },
     "execution_count": 24,
     "metadata": {},
     "output_type": "execute_result"
    }
   ],
   "source": [
    "len(prediction)"
   ]
  },
  {
   "cell_type": "code",
   "execution_count": 25,
   "metadata": {},
   "outputs": [
    {
     "name": "stdout",
     "output_type": "stream",
     "text": [
      "Number of candidates: 1000\n",
      "Number of references: 1000\n",
      "{'rouge-1': {'f': 0.2826348459495332,\n",
      "             'p': 0.22399689415508767,\n",
      "             'r': 0.430858767180849},\n",
      " 'rouge-2': {'f': 0.10091051793892604,\n",
      "             'p': 0.0787085965388777,\n",
      "             'r': 0.1583441835952987},\n",
      " 'rouge-l': {'f': 0.22031757081244357,\n",
      "             'p': 0.1746206331512925,\n",
      "             'r': 0.33717994439853727}}\n"
     ]
    }
   ],
   "source": [
    "rouge_scores = compute_rouge_python(cand=prediction, ref=target)\n",
    "pprint.pprint(rouge_scores)"
   ]
  },
  {
   "cell_type": "code",
   "execution_count": 26,
   "metadata": {},
   "outputs": [
    {
     "data": {
      "text/plain": [
       "'marseille prosecutor says `` so far no videos were used in the crash investigation `` despite media reports .journalists at bild and paris match are `` very confident `` the video clip is real , an editor says .andreas lubitz had informed his lufthansa training school of an episode of severe depression , airline says .'"
      ]
     },
     "execution_count": 26,
     "metadata": {},
     "output_type": "execute_result"
    }
   ],
   "source": [
    "target[0]"
   ]
  },
  {
   "cell_type": "code",
   "execution_count": 27,
   "metadata": {},
   "outputs": [
    {
     "data": {
      "text/plain": [
       "'marseille prosecutor brice robin told cnn that \" so far no videos were used in the crash investigation . \"\\nhe added , \" a person who has such a video needs to immediately give it to the investigators . \"\\nrobin \\'s comments follow claims by two magazines , german daily bild and french paris match , of a cell phone video showing the harrowing final seconds from on board germanwings flight 9525 as it crashed into the french alps .'"
      ]
     },
     "execution_count": 27,
     "metadata": {},
     "output_type": "execute_result"
    }
   ],
   "source": [
    "prediction[0]"
   ]
  },
  {
   "cell_type": "code",
   "execution_count": 28,
   "metadata": {},
   "outputs": [
    {
     "data": {
      "text/plain": [
       "['marseille , france ( cnn ) the french prosecutor leading an investigation into the crash of germanwings flight 9525 insisted wednesday that he was not aware of any video footage from on board the plane .',\n",
       " 'marseille prosecutor brice robin told cnn that \" so far no videos were used in the crash investigation . \"',\n",
       " 'he added , \" a person who has such a video needs to immediately give it to the investigators . \"',\n",
       " \"robin 's comments follow claims by two magazines , german daily bild and french paris match , of a cell phone video showing the harrowing final seconds from on board germanwings flight 9525 as it crashed into the french alps .\",\n",
       " 'all 150 on board were killed .',\n",
       " 'paris match and bild reported that the video was recovered from a phone at the wreckage site .',\n",
       " 'the two publications described the supposed video , but did not post it on their websites .',\n",
       " 'the publications said that they watched the video , which was found by a source close to the investigation . \"',\n",
       " 'one can hear cries of ` my god \\' in several languages , \" paris match reported . \"',\n",
       " 'metallic banging can also be heard more than three times , perhaps of the pilot trying to open the cockpit door with a heavy object .',\n",
       " 'towards the end , after a heavy shake , stronger than the others , the screaming intensifies .',\n",
       " 'then nothing . \"',\n",
       " '\" it is a very disturbing scene , \" said julian reichelt , editor-in-chief of bild online .',\n",
       " \"an official with france 's accident investigation agency , the bea , said the agency is not aware of any such video .\",\n",
       " 'lt. col. jean-marc menichini , a french gendarmerie spokesman in charge of communications on rescue efforts around the germanwings crash site , told cnn that the reports were \" completely wrong \" and \" unwarranted . \"',\n",
       " 'cell phones have been collected at the site , he said , but that they \" had n\\'t been exploited yet . \"',\n",
       " 'menichini said he believed the cell phones would need to be sent to the criminal research institute in rosny sous-bois , near paris , in order to be analyzed by specialized technicians working hand-in-hand with investigators .',\n",
       " 'but none of the cell phones found so far have been sent to the institute , menichini said .',\n",
       " 'asked whether staff involved in the search could have leaked a memory card to the media , menichini answered with a categorical \" no . \"',\n",
       " 'reichelt told \" erin burnett : outfront \" that he had watched the video and stood by the report , saying bild and paris match are \" very confident \" that the clip is real .',\n",
       " 'he noted that investigators only revealed they \\'d recovered cell phones from the crash site after bild and paris match published their reports . \"',\n",
       " 'that is something we did not know before .',\n",
       " '... overall we can say many things of the investigation were n\\'t revealed by the investigation at the beginning , \" he said .',\n",
       " 'what was mental state of germanwings co-pilot ?',\n",
       " \"german airline lufthansa confirmed tuesday that co-pilot andreas lubitz had battled depression years before he took the controls of germanwings flight 9525 , which he 's accused of deliberately crashing last week in the french alps .\",\n",
       " 'lubitz told his lufthansa flight training school in 2009 that he had a \" previous episode of severe depression , \" the airline said tuesday .',\n",
       " 'email correspondence between lubitz and the school discovered in an internal investigation , lufthansa said , included medical documents he submitted in connection with resuming his flight training .',\n",
       " \"the announcement indicates that lufthansa , the parent company of germanwings , knew of lubitz 's battle with depression , allowed him to continue training and ultimately put him in the cockpit .\",\n",
       " 'lufthansa , whose ceo carsten spohr previously said lubitz was 100 % fit to fly , described its statement tuesday as a \" swift and seamless clarification \" and said it was sharing the information and documents -- including training and medical records -- with public prosecutors .',\n",
       " 'spohr traveled to the crash site wednesday , where recovery teams have been working for the past week to recover human remains and plane debris scattered across a steep mountainside .',\n",
       " 'he saw the crisis center set up in seyne-les-alpes , laid a wreath in the village of le vernet , closer to the crash site , where grieving families have left flowers at a simple stone memorial .',\n",
       " 'menichini told cnn late tuesday that no visible human remains were left at the site but recovery teams would keep searching .',\n",
       " 'french president francois hollande , speaking tuesday , said that it should be possible to identify all the victims using dna analysis by the end of the week , sooner than authorities had previously suggested .',\n",
       " \"in the meantime , the recovery of the victims ' personal belongings will start wednesday , menichini said .\",\n",
       " 'among those personal belongings could be more cell phones belonging to the 144 passengers and six crew on board .',\n",
       " 'check out the latest from our correspondents .',\n",
       " \"the details about lubitz 's correspondence with the flight school during his training were among several developments as investigators continued to delve into what caused the crash and lubitz 's possible motive for downing the jet .\",\n",
       " 'a lufthansa spokesperson told cnn on tuesday that lubitz had a valid medical certificate , had passed all his examinations and \" held all the licenses required . \"',\n",
       " \"earlier , a spokesman for the prosecutor 's office in dusseldorf , christoph kumpa , said medical records reveal lubitz suffered from suicidal tendencies at some point before his aviation career and underwent psychotherapy before he got his pilot 's license .\",\n",
       " \"kumpa emphasized there 's no evidence suggesting lubitz was suicidal or acting aggressively before the crash .\",\n",
       " \"investigators are looking into whether lubitz feared his medical condition would cause him to lose his pilot 's license , a european government official briefed on the investigation told cnn on tuesday .\",\n",
       " 'while flying was \" a big part of his life , \" the source said , it \\'s only one theory being considered .',\n",
       " 'another source , a law enforcement official briefed on the investigation , also told cnn that authorities believe the primary motive for lubitz to bring down the plane was that he feared he would not be allowed to fly because of his medical problems .',\n",
       " \"lubitz 's girlfriend told investigators he had seen an eye doctor and a neuropsychologist , both of whom deemed him unfit to work recently and concluded he had psychological issues , the european government official said .\",\n",
       " 'but no matter what details emerge about his previous mental health struggles , there \\'s more to the story , said brian russell , a forensic psychologist . \"',\n",
       " 'psychology can explain why somebody would turn rage inward on themselves about the fact that maybe they were n\\'t going to keep doing their job and they \\'re upset about that and so they \\'re suicidal , \" he said . \"',\n",
       " 'but there is no mental illness that explains why somebody then feels entitled to also take that rage and turn it outward on 149 other people who had nothing to do with the person \\'s problems . \"',\n",
       " 'germanwings crash compensation : what we know .',\n",
       " 'who was the captain of germanwings flight 9525 ?',\n",
       " \"cnn 's margot haddad reported from marseille and pamela brown from dusseldorf , while laura smith-spark wrote from london .\",\n",
       " \"cnn 's frederik pleitgen , pamela boykoff , antonia mortensen , sandrine amiel and anna-maja rappard contributed to this report .\"]"
      ]
     },
     "execution_count": 28,
     "metadata": {},
     "output_type": "execute_result"
    }
   ],
   "source": [
    "source[0]"
   ]
  },
  {
   "cell_type": "code",
   "execution_count": 29,
   "metadata": {},
   "outputs": [
    {
     "data": {
      "application/scrapbook.scrap.json+json": {
       "data": 0.10091051793892604,
       "encoder": "json",
       "name": "rouge_2_f_score",
       "version": 1
      }
     },
     "metadata": {
      "scrapbook": {
       "data": true,
       "display": false,
       "name": "rouge_2_f_score"
      }
     },
     "output_type": "display_data"
    }
   ],
   "source": [
    "# for testing\n",
    "sb.glue(\"rouge_2_f_score\", rouge_scores['rouge-2']['f'])"
   ]
  },
  {
   "cell_type": "markdown",
   "metadata": {},
   "source": [
    "## Prediction on a single input sample"
   ]
  },
  {
   "cell_type": "code",
   "execution_count": 30,
   "metadata": {},
   "outputs": [],
   "source": [
    "source = \"\"\"\n",
    "But under the new rule, set to be announced in the next 48 hours, Border Patrol agents would immediately return anyone to Mexico — without any detainment and without any due process — who attempts to cross the southwestern border between the legal ports of entry. The person would not be held for any length of time in an American facility.\n",
    "\n",
    "Although they advised that details could change before the announcement, administration officials said the measure was needed to avert what they fear could be a systemwide outbreak of the coronavirus inside detention facilities along the border. Such an outbreak could spread quickly through the immigrant population and could infect large numbers of Border Patrol agents, leaving the southwestern border defenses weakened, the officials argued.\n",
    "The Trump administration plans to immediately turn back all asylum seekers and other foreigners attempting to enter the United States from Mexico illegally, saying the nation cannot risk allowing the coronavirus to spread through detention facilities and Border Patrol agents, four administration officials said.\n",
    "The administration officials said the ports of entry would remain open to American citizens, green-card holders and foreigners with proper documentation. Some foreigners would be blocked, including Europeans currently subject to earlier travel restrictions imposed by the administration. The points of entry will also be open to commercial traffic.\"\"\""
   ]
  },
  {
   "cell_type": "code",
   "execution_count": 31,
   "metadata": {},
   "outputs": [],
   "source": [
    "test_dataset = SummarizationDataset(\n",
    "    None,\n",
    "    source=[source],\n",
    "    source_preprocessing=[tokenize.sent_tokenize],\n",
    "    word_tokenize=nltk.word_tokenize,\n",
    ")\n",
    "processor = ExtSumProcessor(model_name=MODEL_NAME,  cache_dir=CACHE_DIR)\n",
    "preprocessed_dataset = processor.preprocess(test_dataset)"
   ]
  },
  {
   "cell_type": "code",
   "execution_count": 32,
   "metadata": {},
   "outputs": [
    {
     "data": {
      "text/plain": [
       "dict_keys(['src', 'src_txt'])"
      ]
     },
     "execution_count": 32,
     "metadata": {},
     "output_type": "execute_result"
    }
   ],
   "source": [
    "preprocessed_dataset[0].keys()"
   ]
  },
  {
   "cell_type": "code",
   "execution_count": 33,
   "metadata": {},
   "outputs": [
    {
     "name": "stderr",
     "output_type": "stream",
     "text": [
      "Scoring: 100%|██████████| 1/1 [00:00<00:00,  5.30it/s]\n"
     ]
    }
   ],
   "source": [
    "prediction = summarizer.predict(preprocessed_dataset, num_gpus=0, batch_size=1, sentence_separator=\"\\n\")"
   ]
  },
  {
   "cell_type": "code",
   "execution_count": 34,
   "metadata": {},
   "outputs": [
    {
     "data": {
      "text/plain": [
       "['But under the new rule, set to be announced in the next 48 hours, Border Patrol agents would immediately return anyone to Mexico — without any detainment and without any due process — who attempts to cross the southwestern border between the legal ports of entry.\\nThe person would not be held for any length of time in an American facility.\\nAlthough they advised that details could change before the announcement, administration officials said the measure was needed to avert what they fear could be a systemwide outbreak of the coronavirus inside detention facilities along the border.']"
      ]
     },
     "execution_count": 34,
     "metadata": {},
     "output_type": "execute_result"
    }
   ],
   "source": [
    "prediction"
   ]
  },
  {
   "cell_type": "markdown",
   "metadata": {},
   "source": [
    "## Clean up temporary folders"
   ]
  },
  {
   "cell_type": "code",
   "execution_count": 35,
   "metadata": {},
   "outputs": [],
   "source": [
    "if os.path.exists(DATA_PATH):\n",
    "    shutil.rmtree(DATA_PATH, ignore_errors=True)\n",
    "if os.path.exists(CACHE_DIR):\n",
    "    shutil.rmtree(CACHE_DIR, ignore_errors=True)\n",
    "if USE_PREPROCSSED_DATA:\n",
    "    if os.path.exists(PROCESSED_DATA_PATH):\n",
    "        shutil.rmtree(PROCESSED_DATA_PATH, ignore_errors=True)"
   ]
  },
  {
   "cell_type": "code",
   "execution_count": 36,
   "metadata": {},
   "outputs": [
    {
     "name": "stdout",
     "output_type": "stream",
     "text": [
      "Total notebook running time 204.12361884117126\n"
     ]
    }
   ],
   "source": [
    "print(\"Total notebook running time {}\".format(time.time() - start_time))"
   ]
  }
 ],
 "metadata": {
  "celltoolbar": "Tags",
  "kernelspec": {
   "display_name": "Python (nlp_gpu)",
   "language": "python",
   "name": "nlp_gpu"
  },
  "language_info": {
   "codemirror_mode": {
    "name": "ipython",
    "version": 3
   },
   "file_extension": ".py",
   "mimetype": "text/x-python",
   "name": "python",
   "nbconvert_exporter": "python",
   "pygments_lexer": "ipython3",
   "version": "3.6.8"
  }
 },
 "nbformat": 4,
 "nbformat_minor": 2
}
