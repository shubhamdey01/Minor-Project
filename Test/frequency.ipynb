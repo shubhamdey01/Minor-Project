{
 "cells": [
  {
   "cell_type": "code",
   "execution_count": 1,
   "id": "b821c74c-1053-45cf-a096-ba9e14c87005",
   "metadata": {},
   "outputs": [],
   "source": [
    "from nltk.tokenize import sent_tokenize, word_tokenize\n",
    "from nltk.corpus import stopwords\n",
    "from nltk.probability import FreqDist"
   ]
  },
  {
   "cell_type": "code",
   "execution_count": 2,
   "id": "1c44dbf3-51f1-41ae-b710-939c06592469",
   "metadata": {},
   "outputs": [
    {
     "name": "stderr",
     "output_type": "stream",
     "text": [
      "[nltk_data] Downloading package punkt to /home/shubham/nltk_data...\n",
      "[nltk_data]   Unzipping tokenizers/punkt.zip.\n",
      "[nltk_data] Downloading package stopwords to\n",
      "[nltk_data]     /home/shubham/nltk_data...\n",
      "[nltk_data]   Package stopwords is already up-to-date!\n"
     ]
    },
    {
     "data": {
      "text/plain": [
       "True"
      ]
     },
     "execution_count": 2,
     "metadata": {},
     "output_type": "execute_result"
    }
   ],
   "source": [
    "import nltk\n",
    "nltk.download('punkt')\n",
    "nltk.download('stopwords')"
   ]
  },
  {
   "cell_type": "code",
   "execution_count": 3,
   "id": "b4615950-976d-4a22-a54b-4fb8d5a6517f",
   "metadata": {},
   "outputs": [],
   "source": [
    "def generate_summary(text, n):\n",
    "    stop_words = set(stopwords.words('english'))\n",
    "    sentences = sent_tokenize(text)\n",
    "    words = [word.lower() for word in word_tokenize(text) if word.lower() not in stop_words and word.isalnum()]\n",
    "    freq_dist = FreqDist(words)\n",
    "\n",
    "    scores = {}\n",
    "    for sent in sentences:\n",
    "        sent_words = [word.lower() for word in word_tokenize(sent) if word.lower() not in stop_words and word.isalnum()]\n",
    "        sent_score = sum([freq_dist[word] for word in sent_words])\n",
    "        if len(sent_words) < 20:\n",
    "            scores[sent] = sent_score\n",
    "\n",
    "    summary = ' '.join(sorted(scores, key=scores.get, reverse=True)[:n])\n",
    "    \n",
    "    return summary"
   ]
  },
  {
   "cell_type": "code",
   "execution_count": 5,
   "id": "a3e33705-3690-420a-866f-bfaad84fda07",
   "metadata": {},
   "outputs": [
    {
     "name": "stdout",
     "output_type": "stream",
     "text": [
      "We wear different clothes and do different things in different weather conditions. Weather stations around the world measure different parts of weather. Climate tells us what kinds of weather usually happen in an area at different times of the year. Weather includes wind, lightning, storms, hurricanes, tornadoes (also known as twisters), rain, hail, snow, and lots more. Ways to measure weather are wind speed, wind direction, temperature and humidity.\n"
     ]
    }
   ],
   "source": [
    "text = '''\n",
    "Weather is the day-to-day or hour-to-hour change in the atmosphere. \n",
    "Weather includes wind, lightning, storms, hurricanes, tornadoes (also known as twisters), rain, hail, snow, and lots more. \n",
    "Energy from the Sun affects the weather too. \n",
    "Climate tells us what kinds of weather usually happen in an area at different times of the year. \n",
    "Changes in weather can affect our mood and life. We wear different clothes and do different things in different weather conditions. \n",
    "We choose different foods in different seasons.\n",
    "Weather stations around the world measure different parts of weather. \n",
    "Ways to measure weather are wind speed, wind direction, temperature and humidity. \n",
    "People try to use these measurements to make weather forecasts for the future. \n",
    "These people are scientists that are called meteorologists. \n",
    "They use computers to build large mathematical models to follow weather trends.'''\n",
    "\n",
    "summary = generate_summary(text, 5)\n",
    "\n",
    "print(summary)"
   ]
  },
  {
   "cell_type": "code",
   "execution_count": null,
   "id": "fe38e3e1-e427-40c8-9292-f2aace46749a",
   "metadata": {},
   "outputs": [],
   "source": []
  }
 ],
 "metadata": {
  "kernelspec": {
   "display_name": "Python 3 (ipykernel)",
   "language": "python",
   "name": "python3"
  },
  "language_info": {
   "codemirror_mode": {
    "name": "ipython",
    "version": 3
   },
   "file_extension": ".py",
   "mimetype": "text/x-python",
   "name": "python",
   "nbconvert_exporter": "python",
   "pygments_lexer": "ipython3",
   "version": "3.12.3"
  }
 },
 "nbformat": 4,
 "nbformat_minor": 5
}
